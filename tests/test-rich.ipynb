{
 "cells": [
  {
   "cell_type": "code",
   "execution_count": 11,
   "id": "2e3c0929",
   "metadata": {},
   "outputs": [],
   "source": [
    "import time"
   ]
  },
  {
   "cell_type": "code",
   "execution_count": 13,
   "id": "eae63351",
   "metadata": {},
   "outputs": [],
   "source": [
    "from rich import print\n",
    "from rich.console import Console\n",
    "from rich.panel import Panel\n",
    "from rich.table import Table\n",
    "from rich import box\n",
    "from rich.pretty import pprint\n",
    "\n",
    "from rich.progress import track\n",
    "from rich.progress import Progress"
   ]
  },
  {
   "cell_type": "code",
   "execution_count": 4,
   "id": "85f6ca5b",
   "metadata": {},
   "outputs": [
    {
     "data": {
      "text/html": [
       "<pre style=\"white-space:pre;overflow-x:auto;line-height:normal;font-family:Menlo,'DejaVu Sans Mono',consolas,'Courier New',monospace\"><span style=\"color: #800000; text-decoration-color: #800000; font-weight: bold\">警告：</span>此操作不可逆！\n",
       "</pre>\n"
      ],
      "text/plain": [
       "\u001b[1;31m警告：\u001b[0m此操作不可逆！\n"
      ]
     },
     "metadata": {},
     "output_type": "display_data"
    },
    {
     "data": {
      "text/html": [
       "<pre style=\"white-space:pre;overflow-x:auto;line-height:normal;font-family:Menlo,'DejaVu Sans Mono',consolas,'Courier New',monospace\"><span style=\"color: #008000; text-decoration-color: #008000\">√</span> 操作成功完成\n",
       "</pre>\n"
      ],
      "text/plain": [
       "\u001b[32m√\u001b[0m 操作成功完成\n"
      ]
     },
     "metadata": {},
     "output_type": "display_data"
    }
   ],
   "source": [
    "print(\"[bold red]警告：[/bold red]此操作不可逆！\")\n",
    "print(\"[green]√[/green] 操作成功完成\")"
   ]
  },
  {
   "cell_type": "code",
   "execution_count": 8,
   "id": "7bbfed3e",
   "metadata": {},
   "outputs": [],
   "source": [
    "console = Console()"
   ]
  },
  {
   "cell_type": "code",
   "execution_count": 9,
   "id": "db2f5010",
   "metadata": {},
   "outputs": [
    {
     "data": {
      "text/html": [
       "<pre style=\"white-space:pre;overflow-x:auto;line-height:normal;font-family:Menlo,'DejaVu Sans Mono',consolas,'Courier New',monospace\"><span style=\"color: #000080; text-decoration-color: #000080\">╭───────────────────────────────────────────────────── Panel ─────────────────────────────────────────────────────╮</span>\n",
       "<span style=\"color: #000080; text-decoration-color: #000080\">│</span> Hello, this is a bordered panel!                                                                                <span style=\"color: #000080; text-decoration-color: #000080\">│</span>\n",
       "<span style=\"color: #000080; text-decoration-color: #000080\">╰─────────────────────────────────────────────────────────────────────────────────────────────────────────────────╯</span>\n",
       "</pre>\n"
      ],
      "text/plain": [
       "\u001b[34m╭─\u001b[0m\u001b[34m────────────────────────────────────────────────────\u001b[0m\u001b[34m Panel \u001b[0m\u001b[34m────────────────────────────────────────────────────\u001b[0m\u001b[34m─╮\u001b[0m\n",
       "\u001b[34m│\u001b[0m Hello, this is a bordered panel!                                                                                \u001b[34m│\u001b[0m\n",
       "\u001b[34m╰─────────────────────────────────────────────────────────────────────────────────────────────────────────────────╯\u001b[0m\n"
      ]
     },
     "metadata": {},
     "output_type": "display_data"
    }
   ],
   "source": [
    "console.print(Panel(\"Hello, this is a bordered panel!\", title=\"Panel\", border_style=\"blue\"))\n"
   ]
  },
  {
   "cell_type": "code",
   "execution_count": null,
   "id": "b33e83b8",
   "metadata": {},
   "outputs": [
    {
     "data": {
      "text/html": [
       "<pre style=\"white-space:pre;overflow-x:auto;line-height:normal;font-family:Menlo,'DejaVu Sans Mono',consolas,'Courier New',monospace\"><span style=\"font-style: italic\">      User Data       </span>\n",
       "<span style=\"color: #000080; text-decoration-color: #000080\">+--------------------+</span>\n",
       "<span style=\"color: #000080; text-decoration-color: #000080\">|</span><span style=\"color: #800080; text-decoration-color: #800080; font-weight: bold\"> ID </span><span style=\"color: #000080; text-decoration-color: #000080\">|</span><span style=\"color: #800080; text-decoration-color: #800080; font-weight: bold\"> Name    </span><span style=\"color: #000080; text-decoration-color: #000080\">|</span><span style=\"color: #800080; text-decoration-color: #800080; font-weight: bold\"> Age </span><span style=\"color: #000080; text-decoration-color: #000080\">|</span>\n",
       "<span style=\"color: #000080; text-decoration-color: #000080\">|----+---------+-----|</span>\n",
       "<span style=\"color: #000080; text-decoration-color: #000080\">|</span><span style=\"color: #7fbfbf; text-decoration-color: #7fbfbf\"> 1  </span><span style=\"color: #000080; text-decoration-color: #000080\">|</span><span style=\"color: #7fbf7f; text-decoration-color: #7fbf7f\"> Alice   </span><span style=\"color: #000080; text-decoration-color: #000080\">|</span><span style=\"color: #7f7f7f; text-decoration-color: #7f7f7f\">  30 </span><span style=\"color: #000080; text-decoration-color: #000080\">|</span>\n",
       "<span style=\"color: #000080; text-decoration-color: #000080\">|----+---------+-----|</span>\n",
       "<span style=\"color: #000080; text-decoration-color: #000080\">|</span><span style=\"color: #008080; text-decoration-color: #008080\"> 2  </span><span style=\"color: #000080; text-decoration-color: #000080\">|</span><span style=\"color: #008000; text-decoration-color: #008000\"> Bob     </span><span style=\"color: #000080; text-decoration-color: #000080\">|</span>  25 <span style=\"color: #000080; text-decoration-color: #000080\">|</span>\n",
       "<span style=\"color: #000080; text-decoration-color: #000080\">|----+---------+-----|</span>\n",
       "<span style=\"color: #000080; text-decoration-color: #000080\">|</span><span style=\"color: #7fbfbf; text-decoration-color: #7fbfbf\"> 3  </span><span style=\"color: #000080; text-decoration-color: #000080\">|</span><span style=\"color: #7fbf7f; text-decoration-color: #7fbf7f\"> Charlie </span><span style=\"color: #000080; text-decoration-color: #000080\">|</span><span style=\"color: #7f7f7f; text-decoration-color: #7f7f7f\">  28 </span><span style=\"color: #000080; text-decoration-color: #000080\">|</span>\n",
       "<span style=\"color: #000080; text-decoration-color: #000080\">+--------------------+</span>\n",
       "</pre>\n"
      ],
      "text/plain": [
       "\u001b[3m      User Data       \u001b[0m\n",
       "\u001b[34m+--------------------+\u001b[0m\n",
       "\u001b[34m|\u001b[0m\u001b[1;35m \u001b[0m\u001b[1;35mID\u001b[0m\u001b[1;35m \u001b[0m\u001b[34m|\u001b[0m\u001b[1;35m \u001b[0m\u001b[1;35mName   \u001b[0m\u001b[1;35m \u001b[0m\u001b[34m|\u001b[0m\u001b[1;35m \u001b[0m\u001b[1;35mAge\u001b[0m\u001b[1;35m \u001b[0m\u001b[34m|\u001b[0m\n",
       "\u001b[34m|----+---------+-----|\u001b[0m\n",
       "\u001b[34m|\u001b[0m\u001b[2;36m \u001b[0m\u001b[2;36m1 \u001b[0m\u001b[2;36m \u001b[0m\u001b[34m|\u001b[0m\u001b[2;32m \u001b[0m\u001b[2;32mAlice  \u001b[0m\u001b[2;32m \u001b[0m\u001b[34m|\u001b[0m\u001b[2m \u001b[0m\u001b[2m 30\u001b[0m\u001b[2m \u001b[0m\u001b[34m|\u001b[0m\n",
       "\u001b[34m|----+---------+-----|\u001b[0m\n",
       "\u001b[34m|\u001b[0m\u001b[36m \u001b[0m\u001b[36m2 \u001b[0m\u001b[36m \u001b[0m\u001b[34m|\u001b[0m\u001b[32m \u001b[0m\u001b[32mBob    \u001b[0m\u001b[32m \u001b[0m\u001b[34m|\u001b[0m  25 \u001b[34m|\u001b[0m\n",
       "\u001b[34m|----+---------+-----|\u001b[0m\n",
       "\u001b[34m|\u001b[0m\u001b[2;36m \u001b[0m\u001b[2;36m3 \u001b[0m\u001b[2;36m \u001b[0m\u001b[34m|\u001b[0m\u001b[2;32m \u001b[0m\u001b[2;32mCharlie\u001b[0m\u001b[2;32m \u001b[0m\u001b[34m|\u001b[0m\u001b[2m \u001b[0m\u001b[2m 28\u001b[0m\u001b[2m \u001b[0m\u001b[34m|\u001b[0m\n",
       "\u001b[34m+--------------------+\u001b[0m\n"
      ]
     },
     "metadata": {},
     "output_type": "display_data"
    }
   ],
   "source": [
    "table = Table(\n",
    "    title=\"User Data\",\n",
    "    show_header=True,\n",
    "    header_style=\"bold magenta\",\n",
    "    show_lines=True,        # 显示行之间的分隔线\n",
    "    box=box.ASCII,  # 设置边框样式\n",
    "    border_style=\"blue\",    # 边框颜色\n",
    "    row_styles=[\"dim\", \"\"], # 行交替样式\n",
    ")\n",
    "\n",
    "table.add_column(\"ID\", style=\"cyan\")\n",
    "table.add_column(\"Name\", style=\"green\")\n",
    "table.add_column(\"Age\", justify=\"right\")\n",
    "\n",
    "table.add_row(\"1\", \"Alice\", \"30\")\n",
    "table.add_row(\"2\", \"Bob\", \"25\")\n",
    "table.add_row(\"3\", \"Charlie\", \"28\")\n",
    "\n",
    "console.print(table)"
   ]
  },
  {
   "cell_type": "code",
   "execution_count": 7,
   "id": "323d2a8b",
   "metadata": {},
   "outputs": [
    {
     "data": {
      "text/html": [
       "<pre style=\"white-space:pre;overflow-x:auto;line-height:normal;font-family:Menlo,'DejaVu Sans Mono',consolas,'Courier New',monospace\"><span style=\"font-weight: bold\">{</span><span style=\"color: #008000; text-decoration-color: #008000\">'name'</span>: <span style=\"color: #008000; text-decoration-color: #008000\">'Alice'</span>, <span style=\"color: #008000; text-decoration-color: #008000\">'age'</span>: <span style=\"color: #008080; text-decoration-color: #008080; font-weight: bold\">30</span>, <span style=\"color: #008000; text-decoration-color: #008000\">'skills'</span>: <span style=\"font-weight: bold\">[</span><span style=\"color: #008000; text-decoration-color: #008000\">'Python'</span>, <span style=\"color: #008000; text-decoration-color: #008000\">'JavaScript'</span>, <span style=\"color: #008000; text-decoration-color: #008000\">'Go'</span><span style=\"font-weight: bold\">]</span>, <span style=\"color: #008000; text-decoration-color: #008000\">'is_student'</span>: <span style=\"color: #ff0000; text-decoration-color: #ff0000; font-style: italic\">False</span><span style=\"font-weight: bold\">}</span>\n",
       "</pre>\n"
      ],
      "text/plain": [
       "\u001b[1m{\u001b[0m\u001b[32m'name'\u001b[0m: \u001b[32m'Alice'\u001b[0m, \u001b[32m'age'\u001b[0m: \u001b[1;36m30\u001b[0m, \u001b[32m'skills'\u001b[0m: \u001b[1m[\u001b[0m\u001b[32m'Python'\u001b[0m, \u001b[32m'JavaScript'\u001b[0m, \u001b[32m'Go'\u001b[0m\u001b[1m]\u001b[0m, \u001b[32m'is_student'\u001b[0m: \u001b[3;91mFalse\u001b[0m\u001b[1m}\u001b[0m\n"
      ]
     },
     "metadata": {},
     "output_type": "display_data"
    }
   ],
   "source": [
    "data = {\n",
    "    \"name\": \"Alice\",\n",
    "    \"age\": 30,\n",
    "    \"skills\": [\"Python\", \"JavaScript\", \"Go\"],\n",
    "    \"is_student\": False\n",
    "}\n",
    "\n",
    "pprint(data)"
   ]
  },
  {
   "cell_type": "code",
   "execution_count": 14,
   "id": "1c8d7171",
   "metadata": {},
   "outputs": [
    {
     "data": {
      "application/vnd.jupyter.widget-view+json": {
       "model_id": "beb9508d0f85446abf76aa3037c77017",
       "version_major": 2,
       "version_minor": 0
      },
      "text/plain": [
       "Output()"
      ]
     },
     "metadata": {},
     "output_type": "display_data"
    },
    {
     "data": {
      "text/html": [
       "<pre style=\"white-space:pre;overflow-x:auto;line-height:normal;font-family:Menlo,'DejaVu Sans Mono',consolas,'Courier New',monospace\"></pre>\n"
      ],
      "text/plain": []
     },
     "metadata": {},
     "output_type": "display_data"
    }
   ],
   "source": [
    "for i in track(range(20), description=\"处理中...\"):\n",
    "    time.sleep(0.1)  # 模拟耗时任务"
   ]
  },
  {
   "cell_type": "code",
   "execution_count": 15,
   "id": "8f08c7f7",
   "metadata": {},
   "outputs": [
    {
     "data": {
      "application/vnd.jupyter.widget-view+json": {
       "model_id": "7acefcfba851438b9ec8f2c6c36f81d8",
       "version_major": 2,
       "version_minor": 0
      },
      "text/plain": [
       "Output()"
      ]
     },
     "metadata": {},
     "output_type": "display_data"
    },
    {
     "data": {
      "text/html": [
       "<pre style=\"white-space:pre;overflow-x:auto;line-height:normal;font-family:Menlo,'DejaVu Sans Mono',consolas,'Courier New',monospace\"></pre>\n"
      ],
      "text/plain": []
     },
     "metadata": {},
     "output_type": "display_data"
    }
   ],
   "source": [
    "with Progress() as progress:\n",
    "    task = progress.add_task(\"[red]下载中...\", total=100)\n",
    "\n",
    "    while not progress.finished:\n",
    "        progress.update(task, advance=5)\n",
    "        time.sleep(0.1)"
   ]
  }
 ],
 "metadata": {
  "kernelspec": {
   "display_name": "STATISTICS",
   "language": "python",
   "name": "python3"
  },
  "language_info": {
   "codemirror_mode": {
    "name": "ipython",
    "version": 3
   },
   "file_extension": ".py",
   "mimetype": "text/x-python",
   "name": "python",
   "nbconvert_exporter": "python",
   "pygments_lexer": "ipython3",
   "version": "3.10.18"
  }
 },
 "nbformat": 4,
 "nbformat_minor": 5
}
