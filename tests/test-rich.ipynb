{
 "cells": [
  {
   "cell_type": "code",
   "execution_count": null,
   "id": "0",
   "metadata": {},
   "outputs": [],
   "source": [
    "import time"
   ]
  },
  {
   "cell_type": "code",
   "execution_count": null,
   "id": "1",
   "metadata": {},
   "outputs": [],
   "source": [
    "from rich import print\n",
    "from rich.console import Console\n",
    "from rich.panel import Panel\n",
    "from rich.table import Table\n",
    "from rich import box\n",
    "from rich.pretty import pprint\n",
    "\n",
    "from rich.progress import track\n",
    "from rich.progress import Progress"
   ]
  },
  {
   "cell_type": "code",
   "execution_count": null,
   "id": "2",
   "metadata": {},
   "outputs": [],
   "source": [
    "from utils import display_device_info"
   ]
  },
  {
   "cell_type": "code",
   "execution_count": null,
   "id": "3",
   "metadata": {},
   "outputs": [],
   "source": [
    "display_device_info()"
   ]
  },
  {
   "cell_type": "code",
   "execution_count": null,
   "id": "4",
   "metadata": {},
   "outputs": [],
   "source": [
    "print(\"[bold red]警告：[/bold red]此操作不可逆！\")\n",
    "print(\"[green]√[/green] 操作成功完成\")"
   ]
  },
  {
   "cell_type": "code",
   "execution_count": null,
   "id": "5",
   "metadata": {},
   "outputs": [],
   "source": [
    "console = Console()"
   ]
  },
  {
   "cell_type": "code",
   "execution_count": null,
   "id": "6",
   "metadata": {},
   "outputs": [],
   "source": [
    "console.print(Panel(\"Hello, this is a bordered panel!\", title=\"Panel\", border_style=\"blue\"))\n"
   ]
  },
  {
   "cell_type": "code",
   "execution_count": null,
   "id": "7",
   "metadata": {},
   "outputs": [],
   "source": [
    "table = Table(\n",
    "    title=\"User Data\",\n",
    "    show_header=True,\n",
    "    header_style=\"bold magenta\",\n",
    "    show_lines=True,        # 显示行之间的分隔线\n",
    "    box=box.ASCII,  # 设置边框样式\n",
    "    border_style=\"blue\",    # 边框颜色\n",
    "    row_styles=[\"dim\", \"\"], # 行交替样式\n",
    ")\n",
    "\n",
    "table.add_column(\"ID\", style=\"cyan\")\n",
    "table.add_column(\"Name\", style=\"green\")\n",
    "table.add_column(\"Age\", justify=\"right\")\n",
    "\n",
    "table.add_row(\"1\", \"Alice\", \"30\")\n",
    "table.add_row(\"2\", \"Bob\", \"25\")\n",
    "table.add_row(\"3\", \"Charlie\", \"28\")\n",
    "\n",
    "console.print(table)"
   ]
  },
  {
   "cell_type": "code",
   "execution_count": null,
   "id": "8",
   "metadata": {},
   "outputs": [],
   "source": [
    "data = {\n",
    "    \"name\": \"Alice\",\n",
    "    \"age\": 30,\n",
    "    \"skills\": [\"Python\", \"JavaScript\", \"Go\"],\n",
    "    \"is_student\": False\n",
    "}\n",
    "\n",
    "pprint(data)"
   ]
  },
  {
   "cell_type": "code",
   "execution_count": null,
   "id": "9",
   "metadata": {},
   "outputs": [],
   "source": [
    "for i in track(range(20), description=\"处理中...\"):\n",
    "    time.sleep(0.1)  # 模拟耗时任务"
   ]
  },
  {
   "cell_type": "code",
   "execution_count": null,
   "id": "10",
   "metadata": {},
   "outputs": [],
   "source": [
    "with Progress() as progress:\n",
    "    task = progress.add_task(\"[red]下载中...\", total=100)\n",
    "\n",
    "    while not progress.finished:\n",
    "        progress.update(task, advance=5)\n",
    "        time.sleep(0.1)"
   ]
  }
 ],
 "metadata": {
  "kernelspec": {
   "display_name": "STATISTICS",
   "language": "python",
   "name": "python3"
  },
  "language_info": {
   "codemirror_mode": {
    "name": "ipython",
    "version": 3
   },
   "file_extension": ".py",
   "mimetype": "text/x-python",
   "name": "python",
   "nbconvert_exporter": "python",
   "pygments_lexer": "ipython3",
   "version": "3.10.18"
  }
 },
 "nbformat": 4,
 "nbformat_minor": 5
}
