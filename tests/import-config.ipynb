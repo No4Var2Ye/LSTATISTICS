{
 "cells": [
  {
   "cell_type": "markdown",
   "id": "b551f15e",
   "metadata": {},
   "source": [
    "## 环境依赖"
   ]
  },
  {
   "cell_type": "code",
   "execution_count": 4,
   "id": "2d49c5b9",
   "metadata": {},
   "outputs": [],
   "source": [
    "# Original Library\n",
    "import sys\n",
    "import os\n",
    "import yaml\n"
   ]
  },
  {
   "cell_type": "code",
   "execution_count": null,
   "id": "641f49e1",
   "metadata": {},
   "outputs": [],
   "source": [
    "# Third-party Library\n",
    "import matplotlib.pyplot as plt\n",
    "\n"
   ]
  },
  {
   "cell_type": "markdown",
   "id": "60e19e0f",
   "metadata": {},
   "source": [
    "## 配置导入"
   ]
  },
  {
   "cell_type": "code",
   "execution_count": null,
   "id": "5807b864",
   "metadata": {},
   "outputs": [],
   "source": []
  },
  {
   "cell_type": "code",
   "execution_count": null,
   "id": "666e1f92",
   "metadata": {},
   "outputs": [],
   "source": [
    "with open('plot_config.yaml', 'r', encoding='utf-8') as f:\n",
    "    config = yaml.safe_load(f)"
   ]
  },
  {
   "cell_type": "code",
   "execution_count": null,
   "id": "81144c05",
   "metadata": {},
   "outputs": [],
   "source": []
  }
 ],
 "metadata": {
  "kernelspec": {
   "display_name": "STATISTICS",
   "language": "python",
   "name": "python3"
  },
  "language_info": {
   "codemirror_mode": {
    "name": "ipython",
    "version": 3
   },
   "file_extension": ".py",
   "mimetype": "text/x-python",
   "name": "python",
   "nbconvert_exporter": "python",
   "pygments_lexer": "ipython3",
   "version": "3.10.18"
  }
 },
 "nbformat": 4,
 "nbformat_minor": 5
}
