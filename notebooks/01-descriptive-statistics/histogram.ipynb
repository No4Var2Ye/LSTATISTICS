{
 "cells": [
  {
   "cell_type": "markdown",
   "id": "0",
   "metadata": {},
   "source": [
    "# Histogram | 直方图\n",
    "\n",
    "[TOC | 目录](./TOC.md)"
   ]
  },
  {
   "cell_type": "markdown",
   "id": "1",
   "metadata": {},
   "source": [
    "展示数据分布形状与中心位置\\\n",
    "对应数值维度: 分布形态, 集中趋势."
   ]
  },
  {
   "cell_type": "code",
   "execution_count": null,
   "id": "2",
   "metadata": {},
   "outputs": [],
   "source": [
    "import numpy as np\n",
    "\n",
    "# import matplotlib as mpl\n",
    "import matplotlib.pyplot as plt\n",
    "import matplotlib.font_manager as fm\n"
   ]
  },
  {
   "cell_type": "code",
   "execution_count": null,
   "id": "3",
   "metadata": {},
   "outputs": [],
   "source": [
    "\n",
    "plt.rcParams[\"font.family\"] = ['Microsoft YaHei']\n"
   ]
  },
  {
   "cell_type": "code",
   "execution_count": null,
   "id": "4",
   "metadata": {},
   "outputs": [],
   "source": [
    "# 设置参数\n",
    "# plt.style.use('seaborn-white')\n",
    "plt.figure(figsize=(12, 6))\n",
    "\n",
    "# 模拟数据 - 收入区间(千美元)\n",
    "income_bins = np.arange(0, 126, 5)  # 0-125千美元，每5千美元一个区间\n",
    "\n",
    "# 模拟1973年和1987年的百分比数据\n",
    "# 假设1987年低收入区间比例更高，高收入区间比例更低\n",
    "percent_1973 = np.exp(-0.03 * income_bins[:-1]) * 5\n",
    "percent_1987 = np.exp(-0.025 * income_bins[:-1]) * 6\n",
    "\n",
    "# 调整使1987年低收入更高，高收入更低\n",
    "percent_1987[:10] = percent_1973[:10] * 1.2  # 前10个区间(0-50k)增加20%\n",
    "percent_1987[-5:] = percent_1973[-5:] * 0.8  # 后5个区间(100k+)减少20%\n",
    "\n",
    "# 绘制直方图\n",
    "width = 2  # 柱状图宽度\n",
    "plt.bar(income_bins[:-1], percent_1973, width=width, alpha=0.7, \n",
    "        label='1973年', color='blue', edgecolor='black')\n",
    "plt.bar(income_bins[:-1] + width, percent_1987, width=width, alpha=0.7, \n",
    "        label='1987年', color='red', edgecolor='black', linestyle='--')\n",
    "\n",
    "# 添加标签和标题\n",
    "plt.title('1973年与1987年美国家庭收入对比', fontsize=14)\n",
    "plt.xlabel('收入(千美元)', fontsize=12)\n",
    "plt.ylabel('每千美元的百分率', fontsize=12)\n",
    "plt.legend(fontsize=12)\n",
    "\n",
    "# 调整坐标轴\n",
    "plt.xlim(0, 125)\n",
    "plt.xticks(np.arange(0, 126, 10))\n",
    "plt.grid(axis='y', alpha=0.3)\n",
    "\n",
    "plt.tight_layout()\n",
    "plt.show()"
   ]
  }
 ],
 "metadata": {
  "kernelspec": {
   "display_name": "STATISTICS",
   "language": "python",
   "name": "python3"
  },
  "language_info": {
   "codemirror_mode": {
    "name": "ipython",
    "version": 3
   },
   "file_extension": ".py",
   "mimetype": "text/x-python",
   "name": "python",
   "nbconvert_exporter": "python",
   "pygments_lexer": "ipython3",
   "version": "3.10.18"
  }
 },
 "nbformat": 4,
 "nbformat_minor": 5
}
